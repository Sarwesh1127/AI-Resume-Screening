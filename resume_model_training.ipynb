{
 "cells": [
  {
   "cell_type": "code",
   "execution_count": 21,
   "id": "5b827c39",
   "metadata": {},
   "outputs": [],
   "source": [
    "import pandas as pd\n",
    "import numpy as np\n",
    "import matplotlib.pyplot as plt\n",
    "import seaborn as sns\n",
    "import re\n",
    "import string\n",
    "import joblib\n",
    "import nltk\n",
    "from collections import Counter\n",
    "from nltk.corpus import stopwords\n",
    "from nltk.stem import WordNetLemmatizer\n",
    "from sklearn.feature_extraction.text import TfidfVectorizer\n",
    "from sklearn.model_selection import train_test_split\n",
    "from sklearn.linear_model import LogisticRegression\n",
    "from sklearn.svm import SVC, LinearSVC\n",
    "from sklearn.naive_bayes import MultinomialNB\n",
    "from sklearn import metrics"
   ]
  },
  {
   "cell_type": "code",
   "execution_count": 7,
   "id": "2b9ca315",
   "metadata": {},
   "outputs": [
    {
     "name": "stdout",
     "output_type": "stream",
     "text": [
      "Dataset Uploaded Sucessfully\n"
     ]
    }
   ],
   "source": [
    "df = pd.read_csv(\"data/AI_Resume_Screening.csv\")\n",
    "print(\"Dataset Uploaded Sucessfully\")"
   ]
  },
  {
   "cell_type": "code",
   "execution_count": 8,
   "id": "8873afe0",
   "metadata": {},
   "outputs": [
    {
     "name": "stdout",
     "output_type": "stream",
     "text": [
      "Dataset Shape :  (1000, 11)\n",
      "\n",
      " Columns:  Index(['Resume_ID', 'Name', 'Skills', 'Experience (Years)', 'Education',\n",
      "       'Certifications', 'Job Role', 'Recruiter Decision',\n",
      "       'Salary Expectation ($)', 'Projects Count', 'AI Score (0-100)'],\n",
      "      dtype='object')\n",
      "\n",
      " Info: \n",
      "<class 'pandas.core.frame.DataFrame'>\n",
      "RangeIndex: 1000 entries, 0 to 999\n",
      "Data columns (total 11 columns):\n",
      " #   Column                  Non-Null Count  Dtype \n",
      "---  ------                  --------------  ----- \n",
      " 0   Resume_ID               1000 non-null   int64 \n",
      " 1   Name                    1000 non-null   object\n",
      " 2   Skills                  1000 non-null   object\n",
      " 3   Experience (Years)      1000 non-null   int64 \n",
      " 4   Education               1000 non-null   object\n",
      " 5   Certifications          726 non-null    object\n",
      " 6   Job Role                1000 non-null   object\n",
      " 7   Recruiter Decision      1000 non-null   object\n",
      " 8   Salary Expectation ($)  1000 non-null   int64 \n",
      " 9   Projects Count          1000 non-null   int64 \n",
      " 10  AI Score (0-100)        1000 non-null   int64 \n",
      "dtypes: int64(5), object(6)\n",
      "memory usage: 86.1+ KB\n",
      "None\n",
      "\n",
      " Summary Stats: \n"
     ]
    },
    {
     "data": {
      "application/vnd.microsoft.datawrangler.viewer.v0+json": {
       "columns": [
        {
         "name": "index",
         "rawType": "object",
         "type": "string"
        },
        {
         "name": "Resume_ID",
         "rawType": "float64",
         "type": "float"
        },
        {
         "name": "Experience (Years)",
         "rawType": "float64",
         "type": "float"
        },
        {
         "name": "Salary Expectation ($)",
         "rawType": "float64",
         "type": "float"
        },
        {
         "name": "Projects Count",
         "rawType": "float64",
         "type": "float"
        },
        {
         "name": "AI Score (0-100)",
         "rawType": "float64",
         "type": "float"
        }
       ],
       "ref": "ffb774f6-c2d2-40fc-be33-94ea31b6dbea",
       "rows": [
        [
         "count",
         "1000.0",
         "1000.0",
         "1000.0",
         "1000.0",
         "1000.0"
        ],
        [
         "mean",
         "500.5",
         "4.896",
         "79994.486",
         "5.133",
         "83.95"
        ],
        [
         "std",
         "288.8194360957494",
         "3.112695435289626",
         "23048.47254936133",
         "3.2313701045768113",
         "20.98303571430473"
        ],
        [
         "min",
         "1.0",
         "0.0",
         "40085.0",
         "0.0",
         "15.0"
        ],
        [
         "25%",
         "250.75",
         "2.0",
         "60415.75",
         "2.0",
         "70.0"
        ],
        [
         "50%",
         "500.5",
         "5.0",
         "79834.5",
         "5.0",
         "100.0"
        ],
        [
         "75%",
         "750.25",
         "8.0",
         "99583.25",
         "8.0",
         "100.0"
        ],
        [
         "max",
         "1000.0",
         "10.0",
         "119901.0",
         "10.0",
         "100.0"
        ]
       ],
       "shape": {
        "columns": 5,
        "rows": 8
       }
      },
      "text/html": [
       "<div>\n",
       "<style scoped>\n",
       "    .dataframe tbody tr th:only-of-type {\n",
       "        vertical-align: middle;\n",
       "    }\n",
       "\n",
       "    .dataframe tbody tr th {\n",
       "        vertical-align: top;\n",
       "    }\n",
       "\n",
       "    .dataframe thead th {\n",
       "        text-align: right;\n",
       "    }\n",
       "</style>\n",
       "<table border=\"1\" class=\"dataframe\">\n",
       "  <thead>\n",
       "    <tr style=\"text-align: right;\">\n",
       "      <th></th>\n",
       "      <th>Resume_ID</th>\n",
       "      <th>Experience (Years)</th>\n",
       "      <th>Salary Expectation ($)</th>\n",
       "      <th>Projects Count</th>\n",
       "      <th>AI Score (0-100)</th>\n",
       "    </tr>\n",
       "  </thead>\n",
       "  <tbody>\n",
       "    <tr>\n",
       "      <th>count</th>\n",
       "      <td>1000.000000</td>\n",
       "      <td>1000.000000</td>\n",
       "      <td>1000.000000</td>\n",
       "      <td>1000.00000</td>\n",
       "      <td>1000.000000</td>\n",
       "    </tr>\n",
       "    <tr>\n",
       "      <th>mean</th>\n",
       "      <td>500.500000</td>\n",
       "      <td>4.896000</td>\n",
       "      <td>79994.486000</td>\n",
       "      <td>5.13300</td>\n",
       "      <td>83.950000</td>\n",
       "    </tr>\n",
       "    <tr>\n",
       "      <th>std</th>\n",
       "      <td>288.819436</td>\n",
       "      <td>3.112695</td>\n",
       "      <td>23048.472549</td>\n",
       "      <td>3.23137</td>\n",
       "      <td>20.983036</td>\n",
       "    </tr>\n",
       "    <tr>\n",
       "      <th>min</th>\n",
       "      <td>1.000000</td>\n",
       "      <td>0.000000</td>\n",
       "      <td>40085.000000</td>\n",
       "      <td>0.00000</td>\n",
       "      <td>15.000000</td>\n",
       "    </tr>\n",
       "    <tr>\n",
       "      <th>25%</th>\n",
       "      <td>250.750000</td>\n",
       "      <td>2.000000</td>\n",
       "      <td>60415.750000</td>\n",
       "      <td>2.00000</td>\n",
       "      <td>70.000000</td>\n",
       "    </tr>\n",
       "    <tr>\n",
       "      <th>50%</th>\n",
       "      <td>500.500000</td>\n",
       "      <td>5.000000</td>\n",
       "      <td>79834.500000</td>\n",
       "      <td>5.00000</td>\n",
       "      <td>100.000000</td>\n",
       "    </tr>\n",
       "    <tr>\n",
       "      <th>75%</th>\n",
       "      <td>750.250000</td>\n",
       "      <td>8.000000</td>\n",
       "      <td>99583.250000</td>\n",
       "      <td>8.00000</td>\n",
       "      <td>100.000000</td>\n",
       "    </tr>\n",
       "    <tr>\n",
       "      <th>max</th>\n",
       "      <td>1000.000000</td>\n",
       "      <td>10.000000</td>\n",
       "      <td>119901.000000</td>\n",
       "      <td>10.00000</td>\n",
       "      <td>100.000000</td>\n",
       "    </tr>\n",
       "  </tbody>\n",
       "</table>\n",
       "</div>"
      ],
      "text/plain": [
       "         Resume_ID  Experience (Years)  Salary Expectation ($)  \\\n",
       "count  1000.000000         1000.000000             1000.000000   \n",
       "mean    500.500000            4.896000            79994.486000   \n",
       "std     288.819436            3.112695            23048.472549   \n",
       "min       1.000000            0.000000            40085.000000   \n",
       "25%     250.750000            2.000000            60415.750000   \n",
       "50%     500.500000            5.000000            79834.500000   \n",
       "75%     750.250000            8.000000            99583.250000   \n",
       "max    1000.000000           10.000000           119901.000000   \n",
       "\n",
       "       Projects Count  AI Score (0-100)  \n",
       "count      1000.00000       1000.000000  \n",
       "mean          5.13300         83.950000  \n",
       "std           3.23137         20.983036  \n",
       "min           0.00000         15.000000  \n",
       "25%           2.00000         70.000000  \n",
       "50%           5.00000        100.000000  \n",
       "75%           8.00000        100.000000  \n",
       "max          10.00000        100.000000  "
      ]
     },
     "execution_count": 8,
     "metadata": {},
     "output_type": "execute_result"
    }
   ],
   "source": [
    "# Summary of Datasets\n",
    "print(\"Dataset Shape : \",df.shape)\n",
    "print(\"\\n Columns: \", df.columns)\n",
    "print(\"\\n Info: \")\n",
    "print(df.info())\n",
    "print(\"\\n Summary Stats: \")\n",
    "df.describe()"
   ]
  },
  {
   "cell_type": "code",
   "execution_count": 32,
   "id": "cdc5e5ba",
   "metadata": {},
   "outputs": [
    {
     "data": {
      "image/png": "[encoded data removed]",
      "text/plain": [
       "<Figure size 600x400 with 1 Axes>"
      ]
     },
     "metadata": {},
     "output_type": "display_data"
    }
   ],
   "source": [
    "# ========== Job Role Distribution ==========\n",
    "plt.figure(figsize=(6,4))\n",
    "sns.countplot(x='Job Role', data=df, order=df['Job Role'].value_counts().index)\n",
    "plt.xticks(rotation=45)\n",
    "plt.title(\"Job Role Distribution\")\n",
    "plt.show()\n"
   ]
  },
  {
   "cell_type": "code",
   "execution_count": 31,
   "id": "2e4da42b",
   "metadata": {},
   "outputs": [
    {
     "data": {
      "image/png": "[encoded data removed]",
      "text/plain": [
       "<Figure size 800x500 with 1 Axes>"
      ]
     },
     "metadata": {},
     "output_type": "display_data"
    }
   ],
   "source": [
    "# ========== Top Words ==========\n",
    "def get_top_words(corpus, n=20):\n",
    "    words = \" \".join(corpus).split()\n",
    "    return Counter(words).most_common(n)\n",
    "\n",
    "top_words = pd.DataFrame(get_top_words(df['cleaned_text'], 20), columns=[\"word\",\"count\"])\n",
    "plt.figure(figsize=(8,5))\n",
    "sns.barplot(x=\"count\", y=\"word\", data=top_words)\n",
    "plt.title(\"Top 20 Words in Resumes\")\n",
    "plt.show()"
   ]
  },
  {
   "cell_type": "code",
   "execution_count": 13,
   "id": "d5865fad",
   "metadata": {},
   "outputs": [
    {
     "name": "stderr",
     "output_type": "stream",
     "text": [
      "[nltk_data] Downloading package stopwords to\n",
      "[nltk_data]     C:\\Users\\hp\\AppData\\Roaming\\nltk_data...\n",
      "[nltk_data]   Package stopwords is already up-to-date!\n",
      "[nltk_data] Downloading package wordnet to\n",
      "[nltk_data]     C:\\Users\\hp\\AppData\\Roaming\\nltk_data...\n",
      "[nltk_data]   Package wordnet is already up-to-date!\n",
      "[nltk_data] Downloading package omw-1.4 to\n",
      "[nltk_data]     C:\\Users\\hp\\AppData\\Roaming\\nltk_data...\n",
      "[nltk_data]   Package omw-1.4 is already up-to-date!\n"
     ]
    }
   ],
   "source": [
    "nltk.download('stopwords')\n",
    "nltk.download('wordnet')\n",
    "nltk.download('omw-1.4')\n",
    "\n",
    "stop_words = set(stopwords.words('english'))\n",
    "lemmatizer = WordNetLemmatizer()"
   ]
  },
  {
   "cell_type": "code",
   "execution_count": 14,
   "id": "8e1081c7",
   "metadata": {},
   "outputs": [],
   "source": [
    "if 'Decision' not in df.columns:\n",
    "    np.random.seed(42)\n",
    "    df['Decision'] = np.random.choice(['Hire', 'Reject'], size=len(df))"
   ]
  },
  {
   "cell_type": "code",
   "execution_count": 33,
   "id": "fd4eba4c",
   "metadata": {},
   "outputs": [
    {
     "data": {
      "image/png": "[encoded data removed]",
      "text/plain": [
       "<Figure size 500x300 with 1 Axes>"
      ]
     },
     "metadata": {},
     "output_type": "display_data"
    }
   ],
   "source": [
    "# Hire/Reject Distribution \n",
    "if 'Decision' in df.columns:\n",
    "    plt.figure(figsize=(5,3))\n",
    "    sns.countplot(x='Decision', data=df)\n",
    "    plt.title(\"Hire/Reject Distribution\")\n",
    "    plt.show()"
   ]
  },
  {
   "cell_type": "code",
   "execution_count": 29,
   "id": "4cf3bbbd",
   "metadata": {},
   "outputs": [
    {
     "data": {
      "image/png": "[encoded data removed]",
      "text/plain": [
       "<Figure size 800x400 with 1 Axes>"
      ]
     },
     "metadata": {},
     "output_type": "display_data"
    }
   ],
   "source": [
    "# Job Role vs Decision Crosstab \n",
    "if 'Decision' in df.columns:\n",
    "    cross_tab = pd.crosstab(df['Job Role'], df['Decision'])\n",
    "    cross_tab.plot(kind=\"bar\", stacked=True, figsize=(8,4))\n",
    "    plt.title(\"Job Role vs Hiring Decision\")\n",
    "    plt.ylabel(\"Count\")\n",
    "    plt.xticks(rotation=45)\n",
    "    plt.show()\n"
   ]
  },
  {
   "cell_type": "code",
   "execution_count": 17,
   "id": "d50eeab9",
   "metadata": {},
   "outputs": [],
   "source": [
    "def combine_text(row):\n",
    "    return f\"{row['Skills']} {row['Education']} {str(row['Certifications'])}\"\n",
    "\n",
    "df['resume_text'] = df.apply(combine_text, axis=1)"
   ]
  },
  {
   "cell_type": "code",
   "execution_count": 18,
   "id": "0a57a930",
   "metadata": {},
   "outputs": [],
   "source": [
    "# Preprocessing\n",
    "def clean_text(text):\n",
    "    text = str(text).lower()\n",
    "    text = re.sub(r'\\[.*?\\]', '', text)\n",
    "    text = re.sub(r'[%s]' % re.escape(string.punctuation), ' ', text)\n",
    "    text = re.sub(r'\\w*\\d\\w*', '', text)\n",
    "    text = re.sub(r'\\s+', ' ', text).strip()\n",
    "    return text\n",
    "def preprocess_text(text):\n",
    "    text = clean_text(text)\n",
    "    tokens = text.split()\n",
    "    tokens = [lemmatizer.lemmatize(w) for w in tokens if w not in stop_words]\n",
    "    return \" \".join(tokens)\n",
    "df['cleaned_text'] = df['resume_text'].apply(preprocess_text)"
   ]
  },
  {
   "cell_type": "code",
   "execution_count": 19,
   "id": "a9303ba0",
   "metadata": {},
   "outputs": [],
   "source": [
    "# Features & Labels\n",
    "X = df['cleaned_text']\n",
    "y_role = df['Job Role']\n",
    "y_decision = df['Decision']\n",
    "\n",
    "# TF-IDF vectorization\n",
    "vectorizer = TfidfVectorizer(max_features=5000)\n",
    "X_tfidf = vectorizer.fit_transform(X)\n",
    "\n",
    "# Train/Test Split\n",
    "X_train, X_test, y_train_role, y_test_role, y_train_dec, y_test_dec = train_test_split(\n",
    "    X_tfidf, y_role, y_decision, test_size=0.2, random_state=42\n",
    ")\n"
   ]
  },
  {
   "cell_type": "code",
   "execution_count": 24,
   "id": "d6007383",
   "metadata": {},
   "outputs": [],
   "source": [
    "# Model Training Function\n",
    "def evaluate_model(model, X_train, y_train, X_test, y_test, task_name):\n",
    "    \"\"\"\n",
    "    Train, predict, and evaluate classification models.\n",
    "    \"\"\"\n",
    "    model.fit(X_train, y_train)\n",
    "    preds = model.predict(X_test)\n",
    "\n",
    "    acc = metrics.accuracy_score(y_test, preds)\n",
    "    prec = metrics.precision_score(y_test, preds, average='weighted', zero_division=0)\n",
    "    rec = metrics.recall_score(y_test, preds, average='weighted', zero_division=0)\n",
    "    f1 = metrics.f1_score(y_test, preds, average='weighted', zero_division=0)\n",
    "    cm = metrics.confusion_matrix(y_test, preds)\n",
    "\n",
    "    print(f\"\\n📊 Results for {task_name} - {model.__class__.__name__}\")\n",
    "    print(f\"Accuracy : {acc:.4f}\")\n",
    "    print(f\"Precision: {prec:.4f}\")\n",
    "    print(f\"Recall   : {rec:.4f}\")\n",
    "    print(f\"F1-score : {f1:.4f}\")\n",
    "    print(\"Confusion Matrix:\\n\", cm)\n",
    "\n",
    "    return acc, model"
   ]
  },
  {
   "cell_type": "code",
   "execution_count": 25,
   "id": "19253f0f",
   "metadata": {},
   "outputs": [],
   "source": [
    "# Train Multiple Models\n",
    "role_models = {\n",
    "    \"Logistic Regression\": LogisticRegression(max_iter=500),\n",
    "    \"Naive Bayes\": MultinomialNB(),\n",
    "    \"Linear SVM\": LinearSVC()\n",
    "}\n",
    "decision_models = {\n",
    "    \"Logistic Regression\": LogisticRegression(max_iter=500),\n",
    "    \"Naive Bayes\": MultinomialNB(),\n",
    "    \"Linear SVM\": LinearSVC()\n",
    "}\n",
    "best_role_model, best_decision_model = None, None\n",
    "best_role_acc, best_decision_acc = 0, 0"
   ]
  },
  {
   "cell_type": "code",
   "execution_count": 26,
   "id": "1444a762",
   "metadata": {},
   "outputs": [
    {
     "name": "stdout",
     "output_type": "stream",
     "text": [
      "\n",
      "📊 Results for Job Role - LogisticRegression\n",
      "Accuracy : 1.0000\n",
      "Precision: 1.0000\n",
      "Recall   : 1.0000\n",
      "F1-score : 1.0000\n",
      "Confusion Matrix:\n",
      " [[52  0  0  0]\n",
      " [ 0 51  0  0]\n",
      " [ 0  0 45  0]\n",
      " [ 0  0  0 52]]\n",
      "\n",
      "📊 Results for Job Role - MultinomialNB\n",
      "Accuracy : 1.0000\n",
      "Precision: 1.0000\n",
      "Recall   : 1.0000\n",
      "F1-score : 1.0000\n",
      "Confusion Matrix:\n",
      " [[52  0  0  0]\n",
      " [ 0 51  0  0]\n",
      " [ 0  0 45  0]\n",
      " [ 0  0  0 52]]\n",
      "\n",
      "📊 Results for Job Role - LinearSVC\n",
      "Accuracy : 1.0000\n",
      "Precision: 1.0000\n",
      "Recall   : 1.0000\n",
      "F1-score : 1.0000\n",
      "Confusion Matrix:\n",
      " [[52  0  0  0]\n",
      " [ 0 51  0  0]\n",
      " [ 0  0 45  0]\n",
      " [ 0  0  0 52]]\n",
      "\n",
      "📊 Results for Decision - LogisticRegression\n",
      "Accuracy : 0.4400\n",
      "Precision: 0.4381\n",
      "Recall   : 0.4400\n",
      "F1-score : 0.4386\n",
      "Confusion Matrix:\n",
      " [[36 59]\n",
      " [53 52]]\n",
      "\n",
      "📊 Results for Decision - MultinomialNB\n",
      "Accuracy : 0.4450\n",
      "Precision: 0.4420\n",
      "Recall   : 0.4450\n",
      "F1-score : 0.4426\n",
      "Confusion Matrix:\n",
      " [[35 60]\n",
      " [51 54]]\n",
      "\n",
      "📊 Results for Decision - LinearSVC\n",
      "Accuracy : 0.4200\n",
      "Precision: 0.4210\n",
      "Recall   : 0.4200\n",
      "F1-score : 0.4203\n",
      "Confusion Matrix:\n",
      " [[39 56]\n",
      " [60 45]]\n"
     ]
    }
   ],
   "source": [
    "# Evaluate Role Classification\n",
    "for name, model in role_models.items():\n",
    "    acc, trained_model = evaluate_model(model, X_train, y_train_role, X_test, y_test_role, \"Job Role\")\n",
    "    if acc > best_role_acc:\n",
    "        best_role_acc, best_role_model = acc, trained_model\n",
    "\n",
    "# Evaluate Hire/Reject Classification\n",
    "for name, model in decision_models.items():\n",
    "    acc, trained_model = evaluate_model(model, X_train, y_train_dec, X_test, y_test_dec, \"Decision\")\n",
    "    if acc > best_decision_acc:\n",
    "        best_decision_acc, best_decision_model = acc, trained_model"
   ]
  },
  {
   "cell_type": "code",
   "execution_count": 27,
   "id": "e9d858d6",
   "metadata": {},
   "outputs": [
    {
     "name": "stdout",
     "output_type": "stream",
     "text": [
      "\n",
      "✅ Training complete.\n",
      "Best Role Model    : LogisticRegression (100.00% accuracy)\n",
      "Best Decision Model: MultinomialNB (44.50% accuracy)\n"
     ]
    }
   ],
   "source": [
    "# Save Best Models\n",
    "joblib.dump(best_role_model, \"resume_role_classifier.pkl\")\n",
    "joblib.dump(best_decision_model, \"hire_reject_classifier.pkl\")\n",
    "joblib.dump(vectorizer, \"tfidf_vectorizer.pkl\")\n",
    "\n",
    "print(\"\\n✅ Training complete.\")\n",
    "print(f\"Best Role Model    : {best_role_model.__class__.__name__} ({best_role_acc:.2%} accuracy)\")\n",
    "print(f\"Best Decision Model: {best_decision_model.__class__.__name__} ({best_decision_acc:.2%} accuracy)\")"
   ]
  }
 ],
 "metadata": {
  "kernelspec": {
   "display_name": ".venv (3.11.9)",
   "language": "python",
   "name": "python3"
  },
  "language_info": {
   "codemirror_mode": {
    "name": "ipython",
    "version": 3
   },
   "file_extension": ".py",
   "mimetype": "text/x-python",
   "name": "python",
   "nbconvert_exporter": "python",
   "pygments_lexer": "ipython3",
   "version": "3.11.9"
  }
 },
 "nbformat": 4,
 "nbformat_minor": 5
}
